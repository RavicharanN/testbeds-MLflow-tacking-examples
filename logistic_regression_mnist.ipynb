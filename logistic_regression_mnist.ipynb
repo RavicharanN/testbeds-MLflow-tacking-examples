{
  "nbformat": 4,
  "nbformat_minor": 0,
  "metadata": {
    "colab": {
      "provenance": []
    },
    "kernelspec": {
      "name": "python3",
      "display_name": "Python 3"
    },
    "language_info": {
      "name": "python"
    }
  },
  "cells": [
    {
      "cell_type": "code",
      "source": [
        "try:\n",
        "    import mlflow\n",
        "    print(\"MLflow is already installed\")\n",
        "except ImportError:\n",
        "    print(\"MLflow not found. Installing...\")\n",
        "    !pip install mlflow"
      ],
      "metadata": {
        "id": "OI-dBfNlfenx"
      },
      "execution_count": null,
      "outputs": []
    },
    {
      "cell_type": "code",
      "source": [],
      "metadata": {
        "id": "k5KHJ9iYff_o"
      },
      "execution_count": null,
      "outputs": []
    },
    {
      "cell_type": "code",
      "source": [
        "import mlflow\n",
        "import mlflow.sklearn\n",
        "import numpy as np\n",
        "import pandas as pd\n",
        "from sklearn.datasets import fetch_openml\n",
        "from sklearn.linear_model import LogisticRegression\n",
        "from sklearn.model_selection import train_test_split\n",
        "from sklearn.metrics import accuracy_score"
      ],
      "metadata": {
        "id": "nSaTBu27fjQZ"
      },
      "execution_count": null,
      "outputs": []
    },
    {
      "cell_type": "markdown",
      "source": [
        "## Setup  MLFlow tracking\n",
        "\n",
        "You will replace the link with your actual MLFlow trackering server. `autolog()` allows you to log metrics, parameters, and models without the need for explicit log statements."
      ],
      "metadata": {
        "id": "7T8F0uXlmeCR"
      }
    },
    {
      "cell_type": "code",
      "source": [
        "mlflow.autolog()"
      ],
      "metadata": {
        "id": "q1e3wdhynqGN"
      },
      "execution_count": null,
      "outputs": []
    },
    {
      "cell_type": "code",
      "source": [
        "mlflow.set_tracking_uri(\"http://tracking_server_host:port_num\")\n",
        "mlflow.start_run()"
      ],
      "metadata": {
        "id": "fv8I0Y0em5Xp"
      },
      "execution_count": null,
      "outputs": []
    },
    {
      "cell_type": "markdown",
      "source": [
        "## Load the train and test sets\n"
      ],
      "metadata": {
        "id": "o6n45XPFnavk"
      }
    },
    {
      "cell_type": "code",
      "source": [
        "mnist = fetch_openml(\"mnist_784\", version=1)\n",
        "X = mnist.data.astype(\"float32\") / 255.0  # Normalize pixel values\n",
        "y = mnist.target.astype(\"int64\")"
      ],
      "metadata": {
        "id": "PDOHSk8mnqp6"
      },
      "execution_count": null,
      "outputs": []
    },
    {
      "cell_type": "code",
      "source": [
        "# Split the data\n",
        "X_train, X_test, y_train, y_test = train_test_split(X, y, test_size=0.2, random_state=42)"
      ],
      "metadata": {
        "id": "KMS3nG6Nn0eF"
      },
      "execution_count": null,
      "outputs": []
    },
    {
      "cell_type": "markdown",
      "source": [
        "# Train and Evaluate"
      ],
      "metadata": {
        "id": "JvugqWn2oGYn"
      }
    },
    {
      "cell_type": "code",
      "source": [
        "model = LogisticRegression(max_iter=100, solver=\"lbfgs\")"
      ],
      "metadata": {
        "id": "Y2eXpKMfn77c"
      },
      "execution_count": null,
      "outputs": []
    },
    {
      "cell_type": "code",
      "source": [
        "model.fit(X_train, y_train)\n",
        "\n",
        "# Make predictions and evaluate\n",
        "y_pred = model.predict(X_test)\n",
        "accuracy = accuracy_score(y_test, y_pred)"
      ],
      "metadata": {
        "id": "cglrQrwxoMwX"
      },
      "execution_count": null,
      "outputs": []
    },
    {
      "cell_type": "code",
      "source": [
        "mlflow.end_run()"
      ],
      "metadata": {
        "id": "i0J1d3ySoPIr"
      },
      "execution_count": null,
      "outputs": []
    },
    {
      "cell_type": "markdown",
      "source": [
        "# View the logged run"
      ],
      "metadata": {
        "id": "93ddPPyOpieA"
      }
    },
    {
      "cell_type": "code",
      "source": [
        "run_id = \"YOUR_RUN_ID\"  # You can find run ID in the Tracking UI\n",
        "artifact_path = \"model\"\n",
        "\n",
        "# Download artifact via the tracking server\n",
        "mlflow_artifact_uri = f\"runs://{run_id}/{artifact_path}\"\n",
        "local_path = mlflow.artifacts.download_artifacts(mlflow_artifact_uri)\n",
        "\n",
        "# Load the model\n",
        "model = mlflow.sklearn.load_model(local_path)"
      ],
      "metadata": {
        "id": "Qw33JeR4plCc"
      },
      "execution_count": 1,
      "outputs": []
    }
  ]
}